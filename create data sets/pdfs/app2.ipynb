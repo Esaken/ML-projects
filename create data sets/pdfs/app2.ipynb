{
 "cells": [
  {
   "cell_type": "code",
   "execution_count": 1,
   "metadata": {},
   "outputs": [
    {
     "name": "stdout",
     "output_type": "stream",
     "text": [
      "Collecting pdfplumber\n",
      "  Downloading pdfplumber-0.11.0-py3-none-any.whl.metadata (39 kB)\n",
      "Collecting pdfminer.six==20231228 (from pdfplumber)\n",
      "  Downloading pdfminer.six-20231228-py3-none-any.whl.metadata (4.2 kB)\n",
      "Requirement already satisfied: Pillow>=9.1 in c:\\users\\ken esau\\anaconda3\\lib\\site-packages (from pdfplumber) (10.2.0)\n",
      "Collecting pypdfium2>=4.18.0 (from pdfplumber)\n",
      "  Downloading pypdfium2-4.30.0-py3-none-win_amd64.whl.metadata (48 kB)\n",
      "     ---------------------------------------- 0.0/48.5 kB ? eta -:--:--\n",
      "     -------- ------------------------------- 10.2/48.5 kB ? eta -:--:--\n",
      "     -------------------------------------- 48.5/48.5 kB 617.3 kB/s eta 0:00:00\n",
      "Requirement already satisfied: charset-normalizer>=2.0.0 in c:\\users\\ken esau\\anaconda3\\lib\\site-packages (from pdfminer.six==20231228->pdfplumber) (2.0.4)\n",
      "Requirement already satisfied: cryptography>=36.0.0 in c:\\users\\ken esau\\anaconda3\\lib\\site-packages (from pdfminer.six==20231228->pdfplumber) (42.0.2)\n",
      "Requirement already satisfied: cffi>=1.12 in c:\\users\\ken esau\\anaconda3\\lib\\site-packages (from cryptography>=36.0.0->pdfminer.six==20231228->pdfplumber) (1.16.0)\n",
      "Requirement already satisfied: pycparser in c:\\users\\ken esau\\anaconda3\\lib\\site-packages (from cffi>=1.12->cryptography>=36.0.0->pdfminer.six==20231228->pdfplumber) (2.21)\n",
      "Downloading pdfplumber-0.11.0-py3-none-any.whl (56 kB)\n",
      "   ---------------------------------------- 0.0/56.4 kB ? eta -:--:--\n",
      "   ----------------------------- ---------- 41.0/56.4 kB 991.0 kB/s eta 0:00:01\n",
      "   ---------------------------------------- 56.4/56.4 kB 981.5 kB/s eta 0:00:00\n",
      "Downloading pdfminer.six-20231228-py3-none-any.whl (5.6 MB)\n",
      "   ---------------------------------------- 0.0/5.6 MB ? eta -:--:--\n",
      "    --------------------------------------- 0.1/5.6 MB 1.5 MB/s eta 0:00:04\n",
      "    --------------------------------------- 0.1/5.6 MB 1.3 MB/s eta 0:00:05\n",
      "    --------------------------------------- 0.1/5.6 MB 1.3 MB/s eta 0:00:05\n",
      "   - -------------------------------------- 0.2/5.6 MB 876.1 kB/s eta 0:00:07\n",
      "   -- ------------------------------------- 0.3/5.6 MB 1.2 MB/s eta 0:00:05\n",
      "   -- ------------------------------------- 0.3/5.6 MB 1.2 MB/s eta 0:00:05\n",
      "   -- ------------------------------------- 0.4/5.6 MB 1.2 MB/s eta 0:00:05\n",
      "   --- ------------------------------------ 0.5/5.6 MB 1.3 MB/s eta 0:00:04\n",
      "   ---- ----------------------------------- 0.6/5.6 MB 1.3 MB/s eta 0:00:04\n",
      "   ---- ----------------------------------- 0.6/5.6 MB 1.4 MB/s eta 0:00:04\n",
      "   ----- ---------------------------------- 0.7/5.6 MB 1.3 MB/s eta 0:00:04\n",
      "   ------- -------------------------------- 1.0/5.6 MB 1.7 MB/s eta 0:00:03\n",
      "   -------- ------------------------------- 1.1/5.6 MB 1.9 MB/s eta 0:00:03\n",
      "   --------- ------------------------------ 1.3/5.6 MB 1.9 MB/s eta 0:00:03\n",
      "   ----------- ---------------------------- 1.6/5.6 MB 2.3 MB/s eta 0:00:02\n",
      "   --------------- ------------------------ 2.2/5.6 MB 2.8 MB/s eta 0:00:02\n",
      "   ---------------- ----------------------- 2.3/5.6 MB 2.9 MB/s eta 0:00:02\n",
      "   --------------------- ------------------ 3.0/5.6 MB 3.4 MB/s eta 0:00:01\n",
      "   --------------------------- ------------ 3.9/5.6 MB 4.2 MB/s eta 0:00:01\n",
      "   -------------------------------- ------- 4.6/5.6 MB 4.9 MB/s eta 0:00:01\n",
      "   -------------------------------------- - 5.4/5.6 MB 5.3 MB/s eta 0:00:01\n",
      "   ---------------------------------------- 5.6/5.6 MB 5.3 MB/s eta 0:00:00\n",
      "Downloading pypdfium2-4.30.0-py3-none-win_amd64.whl (2.9 MB)\n",
      "   ---------------------------------------- 0.0/2.9 MB ? eta -:--:--\n",
      "   ---------------------------------------  2.9/2.9 MB 92.8 MB/s eta 0:00:01\n",
      "   ---------------------------------------- 2.9/2.9 MB 46.5 MB/s eta 0:00:00\n",
      "Installing collected packages: pypdfium2, pdfminer.six, pdfplumber\n",
      "Successfully installed pdfminer.six-20231228 pdfplumber-0.11.0 pypdfium2-4.30.0\n"
     ]
    }
   ],
   "source": [
    "!pip install pdfplumber"
   ]
  },
  {
   "cell_type": "code",
   "execution_count": 2,
   "metadata": {},
   "outputs": [],
   "source": [
    "import pdfplumber"
   ]
  },
  {
   "cell_type": "code",
   "execution_count": 4,
   "metadata": {},
   "outputs": [
    {
     "ename": "SyntaxError",
     "evalue": "incomplete input (1485399365.py, line 1)",
     "output_type": "error",
     "traceback": [
      "\u001b[1;36m  Cell \u001b[1;32mIn[4], line 1\u001b[1;36m\u001b[0m\n\u001b[1;33m    with pdfplumber.open(\"./kenya.pdf\") as pdf:\u001b[0m\n\u001b[1;37m                                               ^\u001b[0m\n\u001b[1;31mSyntaxError\u001b[0m\u001b[1;31m:\u001b[0m incomplete input\n"
     ]
    }
   ],
   "source": [
    "with pdfplumber.open(\"./kenya.pdf\") as pdf:"
   ]
  }
 ],
 "metadata": {
  "kernelspec": {
   "display_name": "base",
   "language": "python",
   "name": "python3"
  },
  "language_info": {
   "codemirror_mode": {
    "name": "ipython",
    "version": 3
   },
   "file_extension": ".py",
   "mimetype": "text/x-python",
   "name": "python",
   "nbconvert_exporter": "python",
   "pygments_lexer": "ipython3",
   "version": "3.11.7"
  }
 },
 "nbformat": 4,
 "nbformat_minor": 2
}
