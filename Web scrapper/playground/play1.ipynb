{
 "cells": [
  {
   "cell_type": "code",
   "execution_count": 2,
   "metadata": {},
   "outputs": [
    {
     "name": "stdout",
     "output_type": "stream",
     "text": [
      "Requirement already satisfied: html-table-parser-python3 in c:\\users\\ken esau\\anaconda3\\lib\\site-packages (0.3.1)\n"
     ]
    },
    {
     "name": "stderr",
     "output_type": "stream",
     "text": [
      "ERROR: Could not find a version that satisfies the requirement pprint (from versions: none)\n",
      "ERROR: No matching distribution found for pprint\n",
      "ERROR: Could not find a version that satisfies the requirement HTMLTableParser (from versions: none)\n",
      "ERROR: No matching distribution found for HTMLTableParser\n"
     ]
    },
    {
     "name": "stdout",
     "output_type": "stream",
     "text": [
      "Requirement already satisfied: pandas in c:\\users\\ken esau\\anaconda3\\lib\\site-packages (2.1.4)\n",
      "Requirement already satisfied: numpy<2,>=1.23.2 in c:\\users\\ken esau\\anaconda3\\lib\\site-packages (from pandas) (1.26.4)\n",
      "Requirement already satisfied: python-dateutil>=2.8.2 in c:\\users\\ken esau\\anaconda3\\lib\\site-packages (from pandas) (2.8.2)\n",
      "Requirement already satisfied: pytz>=2020.1 in c:\\users\\ken esau\\anaconda3\\lib\\site-packages (from pandas) (2023.3.post1)\n",
      "Requirement already satisfied: tzdata>=2022.1 in c:\\users\\ken esau\\anaconda3\\lib\\site-packages (from pandas) (2023.3)\n",
      "Requirement already satisfied: six>=1.5 in c:\\users\\ken esau\\anaconda3\\lib\\site-packages (from python-dateutil>=2.8.2->pandas) (1.16.0)\n",
      "Requirement already satisfied: requests in c:\\users\\ken esau\\anaconda3\\lib\\site-packages (2.31.0)\n",
      "Requirement already satisfied: charset-normalizer<4,>=2 in c:\\users\\ken esau\\anaconda3\\lib\\site-packages (from requests) (2.0.4)\n",
      "Requirement already satisfied: idna<4,>=2.5 in c:\\users\\ken esau\\anaconda3\\lib\\site-packages (from requests) (3.4)\n",
      "Requirement already satisfied: urllib3<3,>=1.21.1 in c:\\users\\ken esau\\anaconda3\\lib\\site-packages (from requests) (2.0.7)\n",
      "Requirement already satisfied: certifi>=2017.4.17 in c:\\users\\ken esau\\anaconda3\\lib\\site-packages (from requests) (2024.2.2)\n"
     ]
    }
   ],
   "source": [
    "! pip install html-table-parser-python3\n",
    "! pip install pprint\n",
    "! pip install HTMLTableParser\n",
    "! pip install pandas\n",
    "! pip install requests"
   ]
  },
  {
   "cell_type": "code",
   "execution_count": 6,
   "metadata": {},
   "outputs": [],
   "source": [
    "import urllib.request\n",
    "\n",
    "# pretty-print python data structures\n",
    "from pprint import pprint\n",
    "\n",
    "# for parsing all the tables present \n",
    "# on the website\n",
    "from html_table_parser.parser import HTMLTableParser\n",
    "\n",
    "# for converting the parsed data in a\n",
    "# pandas dataframe\n",
    "import pandas as pd\n",
    " \n",
    " "
   ]
  },
  {
   "cell_type": "code",
   "execution_count": 9,
   "metadata": {},
   "outputs": [
    {
     "name": "stdout",
     "output_type": "stream",
     "text": [
      "[[''],\n",
      " ['The latest news on the Central Bank and updates from Kenya’s banking '\n",
      "  'sector']]\n",
      "\n",
      "\n",
      "PANDAS DATAFRAME\n",
      "\n",
      "                                                   0\n",
      "0                                                   \n",
      "1  Find the latest tenders and notifications issu...\n"
     ]
    }
   ],
   "source": [
    "# Opens a website and read its\n",
    "# binary contents (HTTP Response Body)\n",
    "def url_get_contents(url):\n",
    " \n",
    "    # Opens a website and read its\n",
    "    # binary contents (HTTP Response Body)\n",
    " \n",
    "    #making request to the website\n",
    "    req = urllib.request.Request(url=url)\n",
    "    f = urllib.request.urlopen(req)\n",
    " \n",
    "    #reading contents of the website\n",
    "    return f.read()\n",
    " \n",
    "# defining the html contents of a URL.\n",
    "xhtml = url_get_contents('https://www.centralbank.go.ke/').decode('utf-8')\n",
    " \n",
    "# Defining the HTMLTableParser object\n",
    "p = HTMLTableParser()\n",
    " \n",
    "# feeding the html contents in the\n",
    "# HTMLTableParser object\n",
    "p.feed(xhtml)\n",
    " \n",
    "# Now finally obtaining the data of\n",
    "# the table required\n",
    "pprint(p.tables[1])\n",
    " \n",
    "# converting the parsed data to\n",
    "# dataframe\n",
    "print(\"\\n\\nPANDAS DATAFRAME\\n\")\n",
    "print(pd.DataFrame(p.tables[2]))"
   ]
  }
 ],
 "metadata": {
  "kernelspec": {
   "display_name": "base",
   "language": "python",
   "name": "python3"
  },
  "language_info": {
   "codemirror_mode": {
    "name": "ipython",
    "version": 3
   },
   "file_extension": ".py",
   "mimetype": "text/x-python",
   "name": "python",
   "nbconvert_exporter": "python",
   "pygments_lexer": "ipython3",
   "version": "3.11.7"
  }
 },
 "nbformat": 4,
 "nbformat_minor": 2
}
