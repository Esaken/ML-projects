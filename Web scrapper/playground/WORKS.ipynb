{
 "cells": [
  {
   "cell_type": "code",
   "execution_count": 1,
   "metadata": {},
   "outputs": [
    {
     "name": "stdout",
     "output_type": "stream",
     "text": [
      "Requirement already satisfied: beautifulsoup4 in c:\\users\\ken esau\\anaconda3\\lib\\site-packages (4.12.2)\n",
      "Requirement already satisfied: soupsieve>1.2 in c:\\users\\ken esau\\anaconda3\\lib\\site-packages (from beautifulsoup4) (2.5)\n",
      "Requirement already satisfied: requests in c:\\users\\ken esau\\anaconda3\\lib\\site-packages (2.31.0)\n",
      "Requirement already satisfied: charset-normalizer<4,>=2 in c:\\users\\ken esau\\anaconda3\\lib\\site-packages (from requests) (2.0.4)\n",
      "Requirement already satisfied: idna<4,>=2.5 in c:\\users\\ken esau\\anaconda3\\lib\\site-packages (from requests) (3.4)\n",
      "Requirement already satisfied: urllib3<3,>=1.21.1 in c:\\users\\ken esau\\anaconda3\\lib\\site-packages (from requests) (2.0.7)\n",
      "Requirement already satisfied: certifi>=2017.4.17 in c:\\users\\ken esau\\anaconda3\\lib\\site-packages (from requests) (2024.2.2)\n",
      "Requirement already satisfied: urllib3 in c:\\users\\ken esau\\anaconda3\\lib\\site-packages (2.0.7)\n"
     ]
    },
    {
     "name": "stderr",
     "output_type": "stream",
     "text": [
      "ERROR: Could not find a version that satisfies the requirement io (from versions: none)\n",
      "ERROR: No matching distribution found for io\n"
     ]
    }
   ],
   "source": [
    "! pip install beautifulsoup4\n",
    "! pip install requests\n",
    "! pip install urllib3\n",
    "! pip install io\n",
    "\n",
    "import requests\n",
    "from bs4 import BeautifulSoup as BS\n",
    "from bs4.element import Tag\n",
    "import io"
   ]
  },
  {
   "cell_type": "code",
   "execution_count": 2,
   "metadata": {},
   "outputs": [
    {
     "name": "stdout",
     "output_type": "stream",
     "text": [
      "Collecting pandas\n",
      "  Downloading pandas-2.2.2-cp311-cp311-win_amd64.whl.metadata (19 kB)\n",
      "Requirement already satisfied: numpy>=1.23.2 in c:\\users\\ken esau\\anaconda3\\lib\\site-packages (from pandas) (1.26.4)\n",
      "Requirement already satisfied: python-dateutil>=2.8.2 in c:\\users\\ken esau\\anaconda3\\lib\\site-packages (from pandas) (2.8.2)\n",
      "Requirement already satisfied: pytz>=2020.1 in c:\\users\\ken esau\\anaconda3\\lib\\site-packages (from pandas) (2023.3.post1)\n",
      "Requirement already satisfied: tzdata>=2022.7 in c:\\users\\ken esau\\anaconda3\\lib\\site-packages (from pandas) (2023.3)\n",
      "Requirement already satisfied: six>=1.5 in c:\\users\\ken esau\\anaconda3\\lib\\site-packages (from python-dateutil>=2.8.2->pandas) (1.16.0)\n",
      "Downloading pandas-2.2.2-cp311-cp311-win_amd64.whl (11.6 MB)\n",
      "   ---------------------------------------- 0.0/11.6 MB ? eta -:--:--\n",
      "   ---------------------------------------- 0.0/11.6 MB ? eta -:--:--\n",
      "   ---------------------------------------- 0.0/11.6 MB ? eta -:--:--\n",
      "   ---------------------------------------- 0.0/11.6 MB 259.2 kB/s eta 0:00:45\n",
      "   ---------------------------------------- 0.0/11.6 MB 259.2 kB/s eta 0:00:45\n",
      "   ---------------------------------------- 0.0/11.6 MB 217.9 kB/s eta 0:00:54\n",
      "   ---------------------------------------- 0.1/11.6 MB 251.0 kB/s eta 0:00:47\n",
      "   ---------------------------------------- 0.1/11.6 MB 308.0 kB/s eta 0:00:38\n",
      "   ---------------------------------------- 0.1/11.6 MB 359.9 kB/s eta 0:00:32\n",
      "   ---------------------------------------- 0.1/11.6 MB 404.6 kB/s eta 0:00:29\n",
      "    --------------------------------------- 0.2/11.6 MB 377.4 kB/s eta 0:00:31\n",
      "    --------------------------------------- 0.2/11.6 MB 473.7 kB/s eta 0:00:25\n",
      "    --------------------------------------- 0.3/11.6 MB 535.8 kB/s eta 0:00:22\n",
      "   - -------------------------------------- 0.3/11.6 MB 615.9 kB/s eta 0:00:19\n",
      "   - -------------------------------------- 0.4/11.6 MB 637.8 kB/s eta 0:00:18\n",
      "   - -------------------------------------- 0.5/11.6 MB 717.0 kB/s eta 0:00:16\n",
      "   - -------------------------------------- 0.6/11.6 MB 770.9 kB/s eta 0:00:15\n",
      "   -- ------------------------------------- 0.6/11.6 MB 778.2 kB/s eta 0:00:15\n",
      "   -- ------------------------------------- 0.6/11.6 MB 796.6 kB/s eta 0:00:14\n",
      "   -- ------------------------------------- 0.7/11.6 MB 873.6 kB/s eta 0:00:13\n",
      "   --- ------------------------------------ 1.0/11.6 MB 1.0 MB/s eta 0:00:11\n",
      "   --- ------------------------------------ 1.1/11.6 MB 1.2 MB/s eta 0:00:09\n",
      "   ---- ----------------------------------- 1.2/11.6 MB 1.2 MB/s eta 0:00:09\n",
      "   ----- ---------------------------------- 1.5/11.6 MB 1.4 MB/s eta 0:00:08\n",
      "   ----- ---------------------------------- 1.7/11.6 MB 1.6 MB/s eta 0:00:07\n",
      "   ------- -------------------------------- 2.2/11.6 MB 1.9 MB/s eta 0:00:05\n",
      "   ------- -------------------------------- 2.3/11.6 MB 1.9 MB/s eta 0:00:05\n",
      "   ---------- ----------------------------- 2.9/11.6 MB 2.4 MB/s eta 0:00:04\n",
      "   ----------- ---------------------------- 3.2/11.6 MB 2.5 MB/s eta 0:00:04\n",
      "   ------------- -------------------------- 4.0/11.6 MB 3.0 MB/s eta 0:00:03\n",
      "   --------------- ------------------------ 4.5/11.6 MB 3.3 MB/s eta 0:00:03\n",
      "   ----------------- ---------------------- 5.1/11.6 MB 3.6 MB/s eta 0:00:02\n",
      "   -------------------- ------------------- 5.9/11.6 MB 4.1 MB/s eta 0:00:02\n",
      "   ---------------------- ----------------- 6.6/11.6 MB 4.5 MB/s eta 0:00:02\n",
      "   ----------------------------- ---------- 8.6/11.6 MB 5.5 MB/s eta 0:00:01\n",
      "   -------------------------------- ------- 9.4/11.6 MB 5.9 MB/s eta 0:00:01\n",
      "   ---------------------------------------  11.6/11.6 MB 16.8 MB/s eta 0:00:01\n",
      "   ---------------------------------------  11.6/11.6 MB 16.8 MB/s eta 0:00:01\n",
      "   ---------------------------------------- 11.6/11.6 MB 14.9 MB/s eta 0:00:00\n",
      "Installing collected packages: pandas\n",
      "Successfully installed pandas-2.2.2\n"
     ]
    }
   ],
   "source": [
    "! pip install pandas\n",
    "from pandas import pandas as pd"
   ]
  },
  {
   "cell_type": "code",
   "execution_count": 3,
   "metadata": {},
   "outputs": [],
   "source": [
    "TH = \"Key Rates\""
   ]
  },
  {
   "cell_type": "code",
   "execution_count": 4,
   "metadata": {},
   "outputs": [],
   "source": [
    "def is_table(table: Tag, text: str=TH) -> bool:\n",
    "    for th in table.select(\"tr th\"):\n",
    "        if th.get_text() == text:\n",
    "            return True\n",
    "    return False"
   ]
  },
  {
   "cell_type": "code",
   "execution_count": 5,
   "metadata": {},
   "outputs": [
    {
     "name": "stdout",
     "output_type": "stream",
     "text": [
      "          Rate type Percentage       Date\n",
      "  Central Bank Rate     13.00% 05/06/2024\n",
      "    Inter-Bank Rate     13.20% 05/07/2024\n",
      "CBK Discount Window     16.00% 05/06/2024\n",
      "      91-Day T-Bill    15.977% 01/07/2024\n",
      "               REPO      0.00% 08/05/2024\n",
      "     Inflation Rate      4.64%  June,2024\n",
      "       Lending Rate     16.45% April,2024\n",
      "       Savings Rate      4.14% April,2024\n",
      "       Deposit Rate     10.77% April,2024\n",
      "               KBRR       8.9% 27/06/2016\n"
     ]
    }
   ],
   "source": [
    "with requests.get(\"https://www.centralbank.go.ke\") as response:\n",
    "    response.raise_for_status()\n",
    "    for table in BS(response.text, \"lxml\").select(\"table.tg\"):\n",
    "        if is_table(table):\n",
    "            html = io.StringIO(str(table))\n",
    "            df = pd.read_html(html)[0].drop(columns=[TH])\n",
    "            mapper = {k: v for k, v in zip(df.columns, [\"Rate type\", \"Percentage\", \"Date\"])}\n",
    "            print(df.rename(columns=mapper).to_string(index=False))\n",
    "            break"
   ]
  }
 ],
 "metadata": {
  "kernelspec": {
   "display_name": "base",
   "language": "python",
   "name": "python3"
  },
  "language_info": {
   "codemirror_mode": {
    "name": "ipython",
    "version": 3
   },
   "file_extension": ".py",
   "mimetype": "text/x-python",
   "name": "python",
   "nbconvert_exporter": "python",
   "pygments_lexer": "ipython3",
   "version": "3.11.7"
  }
 },
 "nbformat": 4,
 "nbformat_minor": 2
}
