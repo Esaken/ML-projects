{
 "cells": [
  {
   "cell_type": "code",
   "execution_count": 1,
   "metadata": {},
   "outputs": [
    {
     "ename": "NameError",
     "evalue": "name 'client' is not defined",
     "output_type": "error",
     "traceback": [
      "\u001b[1;31m---------------------------------------------------------------------------\u001b[0m",
      "\u001b[1;31mNameError\u001b[0m                                 Traceback (most recent call last)",
      "Cell \u001b[1;32mIn[1], line 1\u001b[0m\n\u001b[1;32m----> 1\u001b[0m client\u001b[38;5;241m.\u001b[39mrun(\u001b[38;5;124m'\u001b[39m\u001b[38;5;124mCoffeeMachine\u001b[39m\u001b[38;5;124m'\u001b[39m, config\u001b[38;5;241m=\u001b[39m\u001b[38;5;124m'\u001b[39m\u001b[38;5;124mCoffee Machine Web\u001b[39m\u001b[38;5;124m'\u001b[39m)\n\u001b[0;32m      3\u001b[0m {\u001b[38;5;124m'\u001b[39m\u001b[38;5;124mstate\u001b[39m\u001b[38;5;124m'\u001b[39m: \u001b[38;5;124m'\u001b[39m\u001b[38;5;124mINITIALIZING\u001b[39m\u001b[38;5;124m'\u001b[39m,\n\u001b[0;32m      4\u001b[0m  \u001b[38;5;124m'\u001b[39m\u001b[38;5;124msimulationId\u001b[39m\u001b[38;5;124m'\u001b[39m: \u001b[38;5;124m'\u001b[39m\u001b[38;5;124m20a84d37-0aba-4e12-9f14-ca381a5952f4\u001b[39m\u001b[38;5;124m'\u001b[39m,\n\u001b[0;32m      5\u001b[0m  \u001b[38;5;124m'\u001b[39m\u001b[38;5;124mproject\u001b[39m\u001b[38;5;124m'\u001b[39m: \u001b[38;5;124m'\u001b[39m\u001b[38;5;124mCoffeeMachine\u001b[39m\u001b[38;5;124m'\u001b[39m,\n\u001b[0;32m      6\u001b[0m  \u001b[38;5;124m'\u001b[39m\u001b[38;5;124melapsedTime\u001b[39m\u001b[38;5;124m'\u001b[39m: \u001b[38;5;241m106\u001b[39m}\n",
      "\u001b[1;31mNameError\u001b[0m: name 'client' is not defined"
     ]
    }
   ],
   "source": [
    "\n",
    "client.run('CoffeeMachine', config='Coffee Machine Web')\n",
    " \n",
    "{'state': 'INITIALIZING',\n",
    " 'simulationId': '20a84d37-0aba-4e12-9f14-ca381a5952f4',\n",
    " 'project': 'CoffeeMachine',\n",
    " 'elapsedTime': 106}"
   ]
  },
  {
   "cell_type": "code",
   "execution_count": null,
   "metadata": {},
   "outputs": [],
   "source": [
    "client.get_status('20a84d37-0aba-4e12-9f14-ca381a5952f4')\n",
    " \n",
    "{'state': 'RUNNING',\n",
    " 'simulationId': '20a84d37-0aba-4e12-9f14-ca381a5952f4',\n",
    " 'simulationTime': '0 ms',\n",
    " 'ui': ['<server_address>/simulation/api/ui/20a84d37-0aba-4e12-9f14-ca381a5952f4/CoffeeMachine.html'],\n",
    " 'project': 'CoffeeMachine',\n",
    " 'config': 'Coffee Machine Web',\n",
    " 'elapsedTime': 72742}"
   ]
  }
 ],
 "metadata": {
  "kernelspec": {
   "display_name": "base",
   "language": "python",
   "name": "python3"
  },
  "language_info": {
   "codemirror_mode": {
    "name": "ipython",
    "version": 3
   },
   "file_extension": ".py",
   "mimetype": "text/x-python",
   "name": "python",
   "nbconvert_exporter": "python",
   "pygments_lexer": "ipython3",
   "version": "3.11.7"
  }
 },
 "nbformat": 4,
 "nbformat_minor": 2
}
