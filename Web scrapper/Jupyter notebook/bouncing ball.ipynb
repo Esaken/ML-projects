{
 "cells": [
  {
   "cell_type": "code",
   "execution_count": null,
   "metadata": {},
   "outputs": [],
   "source": [
    "\n",
    "result = client.simulate('BouncingBall\", config='Run BouncingBall')\n",
    "csv = result['csvExports']['Bouncing Ball']"
   ]
  },
  {
   "cell_type": "code",
   "execution_count": null,
   "metadata": {},
   "outputs": [],
   "source": [
    "import numpy as np\n",
    "import matplotlib.pyplot import figure\n",
    "from io import StringIO\n",
    " \n",
    "figure(figsize=(16, 8), dpi=80\n",
    "x = np.loadtxt(StringIO(csv), dtype='double', delimiter=',', skiprows = 1, usecols = (0)) / 1000\n",
    "y = np.loadtxt(StringIO(csv), dtype='double', delimiter=',', skiprows = 1, usecols = (1))\n",
    "plt.xlabel('time (ms)')\n",
    "plt.ylabel('height')\n",
    "plt.title('Bouncing Ball', fontweight=\"bold\", fontsize=20)\n",
    "plt.plot(x, y,)\n",
    "plt.grid()\n",
    "plt.show()"
   ]
  }
 ],
 "metadata": {
  "language_info": {
   "name": "python"
  }
 },
 "nbformat": 4,
 "nbformat_minor": 2
}
