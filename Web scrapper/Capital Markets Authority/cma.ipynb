{
 "cells": [
  {
   "cell_type": "code",
   "execution_count": 1,
   "metadata": {},
   "outputs": [],
   "source": [
    "from autoscraper import AutoScraper"
   ]
  },
  {
   "cell_type": "code",
   "execution_count": 9,
   "metadata": {},
   "outputs": [
    {
     "name": "stdout",
     "output_type": "stream",
     "text": [
      "{'rule_bc3q': ['₹5,499', '₹2,414', '₹5,499', '₹2,414', '₹2,414', '₹3,999', '₹5,499', '₹3,299', '₹3,999', '₹13,999', '₹5,499', '₹3,999', '₹8,999', '₹24,999', '₹9,999'], 'rule_3mbg': ['₹5,499', '₹2,414', '₹5,499', '₹2,414', '₹2,414', '₹3,999', '₹5,499', '₹3,299', '₹3,999', '₹13,999', '₹5,499', '₹3,999', '₹8,999', '₹24,999', '₹9,999'], 'rule_y1y2': ['₹5,499', '₹3,999'], 'rule_7p42': ['₹5,499', '₹3,999'], 'rule_we77': ['₹5,499', '₹2,414', '₹5,499', '₹2,414', '₹2,414', '₹3,999', '₹5,499', '₹3,299', '₹3,999', '₹13,999', '₹5,499', '₹3,999', '₹8,999', '₹24,999', '₹9,999'], 'rule_ktpk': ['₹5,499', '₹2,414', '₹5,499', '₹2,414', '₹2,414', '₹3,999', '₹5,499', '₹3,299', '₹3,999', '₹13,999', '₹5,499', '₹3,999', '₹8,999', '₹24,999', '₹9,999'], 'rule_u9fh': ['₹5,499', '₹2,414', '₹5,499', '₹2,414', '₹2,414', '₹3,999', '₹5,499', '₹3,299', '₹3,999', '₹13,999', '₹5,499', '₹3,999', '₹8,999', '₹24,999', '₹9,999'], 'rule_9mx4': ['₹5,499', '₹2,414', '₹5,499', '₹2,414', '₹2,414', '₹3,999', '₹5,499', '₹3,299', '₹3,999', '₹13,999', '₹5,499', '₹3,999', '₹8,999', '₹24,999', '₹9,999'], 'rule_tryr': ['₹5,499', '₹2,414', '₹5,499', '₹2,414', '₹2,414', '₹3,999', '₹5,499', '₹3,299', '₹3,999', '₹13,999', '₹5,499', '₹3,999', '₹8,999', '₹24,999', '₹9,999'], 'rule_sigv': ['₹5,499', '₹2,414', '₹5,499', '₹2,414', '₹2,414', '₹3,999', '₹5,499', '₹3,299', '₹3,999', '₹13,999', '₹5,499', '₹3,999', '₹8,999', '₹24,999', '₹9,999'], 'rule_8bpe': ['5,599', '316', '23,830', '58', '175', '1,011', '5,599', '439', '1,011', '2,392', '5,599', '1,011', '43', '5,697', '596', '10,757'], 'rule_gdde': ['5,599', '1,011'], 'rule_zico': ['5,599', '316', '23,830', '58', '175', '1,011', '5,599', '439', '1,011', '2,392', '5,599', '1,011', '43', '5,697', '596', '10,757'], 'rule_gyjw': ['5,599', '316', '23,830', '58', '175', '1,011', '5,599', '439', '1,011', '2,392', '5,599', '1,011', '43', '5,697', '596', '10,757']}\n"
     ]
    }
   ],
   "source": [
    "scraper = AutoScraper()\n",
    "result = scraper.build(amazon_url,wanted_list)\n",
    "data = scraper.get_result_similar(amazon_url, grouped=True)\n",
    "print(data)"
   ]
  },
  {
   "cell_type": "code",
   "execution_count": 11,
   "metadata": {},
   "outputs": [],
   "source": [
    "#scraper.set_rule_aliases({'rule_bc3q':'Title', 'rule_gdde':'Rating', 'rule_3mbg':'Price'})\n",
    "# keeping the same rules for other queries also\n",
    "#scraper.keep_rules(['rule_69qt','rule_7lzq','rule_lwm8'])\n",
    "#scraper.save('amazon-search')"
   ]
  },
  {
   "cell_type": "code",
   "execution_count": 15,
   "metadata": {},
   "outputs": [],
   "source": [
    "amazon_url = \"ttps://www.amazon.in/s?k=playstation\"\n",
    "\n",
    "#wanted_list = ['Echo Dot (5th Gen) ','₹5,499 ','5,599']\n",
    "\n",
    "#wanted_list = ['Echo Dot (3rd Gen) - #1 smart speaker brand in India with Alexa (Black)','₹3,499 ','67,789']\n",
    "\n"
   ]
  },
  {
   "cell_type": "code",
   "execution_count": 16,
   "metadata": {},
   "outputs": [
    {
     "ename": "AttributeError",
     "evalue": "'list' object has no attribute 'items'",
     "output_type": "error",
     "traceback": [
      "\u001b[1;31m---------------------------------------------------------------------------\u001b[0m",
      "\u001b[1;31mAttributeError\u001b[0m                            Traceback (most recent call last)",
      "Cell \u001b[1;32mIn[16], line 2\u001b[0m\n\u001b[0;32m      1\u001b[0m \u001b[38;5;28;01mimport\u001b[39;00m \u001b[38;5;21;01mpandas\u001b[39;00m \u001b[38;5;28;01mas\u001b[39;00m \u001b[38;5;21;01mpd\u001b[39;00m\n\u001b[1;32m----> 2\u001b[0m df \u001b[38;5;241m=\u001b[39m pd\u001b[38;5;241m.\u001b[39mDataFrame(\u001b[38;5;28mdict\u001b[39m([ (k,pd\u001b[38;5;241m.\u001b[39mSeries(v)) \u001b[38;5;28;01mfor\u001b[39;00m k,v \u001b[38;5;129;01min\u001b[39;00m result\u001b[38;5;241m.\u001b[39mitems() ]))\n\u001b[0;32m      3\u001b[0m \u001b[38;5;66;03m# Converting our DataFrame to CSV file\u001b[39;00m\n\u001b[0;32m      4\u001b[0m df\u001b[38;5;241m.\u001b[39mto_csv(\u001b[38;5;124m'\u001b[39m\u001b[38;5;124mPlayStation_Data.csv\u001b[39m\u001b[38;5;124m'\u001b[39m)\n",
      "\u001b[1;31mAttributeError\u001b[0m: 'list' object has no attribute 'items'"
     ]
    }
   ],
   "source": [
    "import pandas as pd\n",
    "df = pd.DataFrame(dict([ (k,pd.Series(v)) for k,v in result.items() ]))\n",
    "# Converting our DataFrame to CSV file\n",
    "df.to_csv('PlayStation_Data.csv')"
   ]
  }
 ],
 "metadata": {
  "kernelspec": {
   "display_name": "base",
   "language": "python",
   "name": "python3"
  },
  "language_info": {
   "codemirror_mode": {
    "name": "ipython",
    "version": 3
   },
   "file_extension": ".py",
   "mimetype": "text/x-python",
   "name": "python",
   "nbconvert_exporter": "python",
   "pygments_lexer": "ipython3",
   "version": "3.11.7"
  }
 },
 "nbformat": 4,
 "nbformat_minor": 2
}
