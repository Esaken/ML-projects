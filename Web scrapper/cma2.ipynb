{
 "cells": [
  {
   "cell_type": "code",
   "execution_count": 1,
   "metadata": {},
   "outputs": [
    {
     "name": "stdout",
     "output_type": "stream",
     "text": [
      "Requirement already satisfied: autoscraper in c:\\users\\ken esau\\anaconda3\\lib\\site-packages (1.1.14)\n",
      "Requirement already satisfied: requests in c:\\users\\ken esau\\anaconda3\\lib\\site-packages (from autoscraper) (2.31.0)\n",
      "Requirement already satisfied: bs4 in c:\\users\\ken esau\\anaconda3\\lib\\site-packages (from autoscraper) (0.0.2)\n",
      "Requirement already satisfied: lxml in c:\\users\\ken esau\\anaconda3\\lib\\site-packages (from autoscraper) (4.9.3)\n",
      "Requirement already satisfied: beautifulsoup4 in c:\\users\\ken esau\\anaconda3\\lib\\site-packages (from bs4->autoscraper) (4.12.2)\n",
      "Requirement already satisfied: charset-normalizer<4,>=2 in c:\\users\\ken esau\\anaconda3\\lib\\site-packages (from requests->autoscraper) (2.0.4)\n",
      "Requirement already satisfied: idna<4,>=2.5 in c:\\users\\ken esau\\anaconda3\\lib\\site-packages (from requests->autoscraper) (3.4)\n",
      "Requirement already satisfied: urllib3<3,>=1.21.1 in c:\\users\\ken esau\\anaconda3\\lib\\site-packages (from requests->autoscraper) (2.0.7)\n",
      "Requirement already satisfied: certifi>=2017.4.17 in c:\\users\\ken esau\\anaconda3\\lib\\site-packages (from requests->autoscraper) (2024.2.2)\n",
      "Requirement already satisfied: soupsieve>1.2 in c:\\users\\ken esau\\anaconda3\\lib\\site-packages (from beautifulsoup4->bs4->autoscraper) (2.5)\n"
     ]
    }
   ],
   "source": [
    "!pip install autoscraper"
   ]
  },
  {
   "cell_type": "code",
   "execution_count": 2,
   "metadata": {},
   "outputs": [],
   "source": [
    "from autoscraper import AutoScraper"
   ]
  },
  {
   "cell_type": "code",
   "execution_count": 8,
   "metadata": {},
   "outputs": [],
   "source": [
    "amazon_url='https://www.amazon.in/s?k=alexa'\n",
    "\n",
    "wanted_list=['https://m.media-amazon.com/images/I/81lGxS2ZisL._AC_UY218_.jpg','Amazon Echo Dot (5th Gen) | Smart speaker with Bigger sound, Motion Detection, Temperature Sensor, Alexa and Bluetooth| Blue',' ₹5,449']"
   ]
  },
  {
   "cell_type": "code",
   "execution_count": 9,
   "metadata": {},
   "outputs": [
    {
     "name": "stdout",
     "output_type": "stream",
     "text": [
      "{'rule_q3zf': ['https://m.media-amazon.com/images/I/8191db+HfLL._AC_UY218_.jpg', 'https://m.media-amazon.com/images/I/61H16Iw9AYL._AC_UY218_.jpg'], 'rule_ym7g': ['https://m.media-amazon.com/images/I/81lGxS2ZisL._AC_UY218_.jpg', 'https://m.media-amazon.com/images/I/61Kw7MvivHL._AC_UY218_.jpg', 'https://m.media-amazon.com/images/I/618+TCm3XoL._AC_UY218_.jpg', 'https://m.media-amazon.com/images/I/81WaomQESKL._AC_UY218_.jpg', 'https://m.media-amazon.com/images/I/515MX-RX-mL._AC_UY218_.jpg', 'https://m.media-amazon.com/images/I/61s1fJ0HOrL._AC_UY218_.jpg', 'https://m.media-amazon.com/images/I/81VttNsrDwL._AC_UY218_.jpg', 'https://m.media-amazon.com/images/I/61leIdDuf4L._AC_UY218_.jpg', 'https://m.media-amazon.com/images/I/61H16Iw9AYL._AC_UY218_.jpg', 'https://m.media-amazon.com/images/I/51C+FWhW9xL._AC_UY218_.jpg', 'https://m.media-amazon.com/images/I/8191db+HfLL._AC_UY218_.jpg', 'https://m.media-amazon.com/images/I/61ZV-IU4u8L._AC_UY218_.jpg', 'https://m.media-amazon.com/images/I/61OP+SBqbiL._AC_UY218_.jpg', 'https://m.media-amazon.com/images/I/51WmFEp22LS._AC_UY218_.jpg', 'https://m.media-amazon.com/images/I/51iABjSt3BS._AC_UY218_.jpg', 'https://m.media-amazon.com/images/I/61dgl2srHDL._AC_UY218_.jpg'], 'rule_gm4a': ['Amazon Echo Dot (5th Gen) | Smart speaker with Bigger sound, Motion Detection, Temperature Sensor, Alexa and Bluetooth| White', 'Amazon Echo Pop| Smart speaker with Alexa and Bluetooth| Loud sound, balanced bass, crisp vocals| Purple'], 'rule_39m0': ['Amazon\\'s Choicefor \"alexa\"', 'Amazon Echo Dot (5th Gen) | Smart speaker with Bigger sound, Motion Detection, Temperature Sensor, Alexa and Bluetooth| Blue', 'Best sellerin Top Rated Renewed Products', 'Certified Refurbished Echo Dot (4th Gen, 2020 release)| Smart speaker with Alexa (Blue)', 'Amazon Echo Pop| Smart speaker with Alexa and Bluetooth| Loud sound, balanced bass, crisp vocals| Black', 'Amazon Echo Dot 4th Gen with clock | Smart speaker with powerful bass, LED display and Alexa (Blue)', 'Certified Refurbished Echo Dot (4th Gen, 2020 release)| Smart speaker with Alexa (White)', 'Certified Refurbished Echo Dot (4th Gen, 2020 release)| Smart speaker with Alexa (Black)', 'Amazon Echo Dot (5th Gen) | Smart speaker with Bigger sound, Motion Detection, Temperature Sensor, Alexa and Bluetooth| Black', 'Certified Refurbished Echo Dot (4th Gen, 2020 release) with clock | Smart speaker with powerful bass, LED display and Alexa (Blue)', 'Amazon Echo Pop| Smart speaker with Alexa and Bluetooth| Loud sound, balanced bass, crisp vocals| Purple', 'Amazon Echo Show 8 (2nd Gen) - Smart speaker with 8\" HD screen, stereo sound & hands-free entertainment with Alexa (Black)', 'Amazon Echo Dot (5th Gen) | Smart speaker with Bigger sound, Motion Detection, Temperature Sensor, Alexa and Bluetooth| White', 'Amazon Echo Pop| Smart speaker with Alexa and Bluetooth| Loud sound, balanced bass, crisp vocals| Green', 'Certified Refurbished Echo Dot (3rd Gen)| Smart speaker with Alexa (Fig)', 'Amazon Echo Show 5 (2nd Gen) - Smart speaker with 5.5\" screen, crisp sound and Alexa (Blue)', 'Amazon Echo Show 10- 10.1\" HD smart display with motion, premium sound and Alexa (Black)', 'Amazon Echo (4th Gen)| Premium sound powered by Dolby and Alexa (Black)'], 'rule_2pzg': ['Amazon Echo Dot (5th Gen) | Smart speaker with Bigger sound, Motion Detection, Temperature Sensor, Alexa and Bluetooth| Blue', 'Certified Refurbished Echo Dot (4th Gen, 2020 release)| Smart speaker with Alexa (Blue)', 'Amazon Echo Pop| Smart speaker with Alexa and Bluetooth| Loud sound, balanced bass, crisp vocals| Black', 'Amazon Echo Dot 4th Gen with clock | Smart speaker with powerful bass, LED display and Alexa (Blue)', 'Certified Refurbished Echo Dot (4th Gen, 2020 release)| Smart speaker with Alexa (White)', 'Certified Refurbished Echo Dot (4th Gen, 2020 release)| Smart speaker with Alexa (Black)', 'Amazon Echo Dot (5th Gen) | Smart speaker with Bigger sound, Motion Detection, Temperature Sensor, Alexa and Bluetooth| Black', 'Certified Refurbished Echo Dot (4th Gen, 2020 release) with clock | Smart speaker with powerful bass, LED display and Alex...', 'Amazon Echo Pop| Smart speaker with Alexa and Bluetooth| Loud sound, balanced bass, crisp vocals| Purple', 'Amazon Echo Show 8 (2nd Gen) - Smart speaker with 8', 'Amazon Echo Dot (5th Gen) | Smart speaker with Bigger sound, Motion Detection, Temperature Sensor, Alexa and Bluetooth| White', 'Amazon Echo Pop| Smart speaker with Alexa and Bluetooth| Loud sound, balanced bass, crisp vocals| Green', 'Certified Refurbished Echo Dot (3rd Gen)| Smart speaker with Alexa (Fig)', 'Amazon Echo Show 5 (2nd Gen) - Smart speaker with 5.5', 'Amazon Echo Show 10- 10.1', 'Amazon Echo (4th Gen)| Premium sound powered by Dolby and Alexa (Black)']}\n"
     ]
    }
   ],
   "source": [
    "scraper = AutoScraper()\n",
    "result = scraper.build(amazon_url,wanted_list)\n",
    "data = scraper.get_result_similar(amazon_url, grouped=True)\n",
    "print(data)"
   ]
  },
  {
   "cell_type": "code",
   "execution_count": 7,
   "metadata": {},
   "outputs": [
    {
     "name": "stdout",
     "output_type": "stream",
     "text": [
      "['rule_hpee', 'rule_7d2t', 'rule_xruw', 'rule_yctf', 'rule_82yx']\n"
     ]
    }
   ],
   "source": [
    "key = list(data.keys())\n",
    "print(key)"
   ]
  },
  {
   "cell_type": "code",
   "execution_count": 10,
   "metadata": {},
   "outputs": [],
   "source": [
    "scraper.set_rule_aliases({'rule_2pzg':'Title', 'rule_ym7g':'ImageUrl'})\n",
    "scraper.keep_rules(['rule_2pzg','rule_ym7g'])\n",
    "scraper.save('amazon-search.json')"
   ]
  }
 ],
 "metadata": {
  "kernelspec": {
   "display_name": "base",
   "language": "python",
   "name": "python3"
  },
  "language_info": {
   "codemirror_mode": {
    "name": "ipython",
    "version": 3
   },
   "file_extension": ".py",
   "mimetype": "text/x-python",
   "name": "python",
   "nbconvert_exporter": "python",
   "pygments_lexer": "ipython3",
   "version": "3.11.7"
  }
 },
 "nbformat": 4,
 "nbformat_minor": 2
}
